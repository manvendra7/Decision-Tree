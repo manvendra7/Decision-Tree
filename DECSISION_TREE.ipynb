{
  "nbformat": 4,
  "nbformat_minor": 0,
  "metadata": {
    "colab": {
      "name": "DECSISION TREE.ipynb",
      "provenance": [],
      "collapsed_sections": [],
      "mount_file_id": "1-A5MpXVaLE3z6J9dj_xoOhRFpmdxRaOS",
      "authorship_tag": "ABX9TyMfrMCiY0NFkuNVDrtXNdtK"
    },
    "kernelspec": {
      "name": "python3",
      "display_name": "Python 3"
    }
  },
  "cells": [
    {
      "cell_type": "markdown",
      "metadata": {
        "id": "PMCFQkJPChWh",
        "colab_type": "text"
      },
      "source": [
        "##DECISION TREE\n",
        "\n",
        "A decision tree is a non parametric supervised Machine learning algorithm that is used for both classification and regression problems. It is mostly used for classification tasks. The goal is to build a model to predict the value of the target label  by using simple decision rules inferred from data.\n",
        "\n",
        "<img src=\"https://imgur.com/IccCCME.png\" title=\"source: decision tree\"/>\n",
        "\n",
        "##IMPORTANT TERMINOLOGIES :\n",
        "\n",
        "**ROOT NODE :** Root node is where the population data is present before any split. It represents the entire population or sample which further gets divided into sub-nodes.The orange color node at the top of the tree represents the root node.\n",
        "\n",
        "**Decision Nodes :** When a sub-node gets divided further into different sub-nodes it is known as decision node. The nodes in red color represent the decision nodes as they are further getting divided into different sub-nodes.\n",
        "\n",
        "**Leaf / Terminal Node :** The node which does not get divided further is known as leaf / terminal node. The nodes in green color represents the terminal nodes.\n",
        "\n",
        "**Depth :** The depth of the tree is the longest path from the root node to the leaf of the tree. The depth of the tree is 3 here as we have to take 3 steps to reach from the root node to the last terminal / leaf node.\n",
        "\n",
        "**Splitting :** The process of dividing a node further into sub-nodes is known as splitting.\n",
        "\n",
        "**Pruning :** It is the opposite of splitting. When a decision tree is fully grown we remove the sub-nodes from the decision node and this process is known as pruning.\n",
        "\n",
        "---\n",
        "\n",
        "\n",
        "\n"
      ]
    },
    {
      "cell_type": "markdown",
      "metadata": {
        "id": "ze2wRvwdGFtq",
        "colab_type": "text"
      },
      "source": [
        "##ADVANTAGES OF DECISION TREE :\n",
        "* Decision trees are simple to interpret and visualize.\n",
        "* Requires less effort for data preparation compared to other algorithms.\n",
        "* Useful in data exploration. Decision trees are one of the fastest ways to identify the most significant variables.\n",
        "* A decision tree can handle both categorical and numerical variables.\n",
        "* A decision tree can handle missing values. \n"
      ]
    },
    {
      "cell_type": "markdown",
      "metadata": {
        "id": "fFZi64MVGvXr",
        "colab_type": "text"
      },
      "source": [
        "##DISADVANTAGES OF DECISION TREE :\n",
        "* Decision trees are very prone to overfitting.\n",
        "* A small change in data can cause a large change in the structure of the decision tree.\n",
        "* Decision trees are relatively expensive as complexity and time taken is more.\n"
      ]
    },
    {
      "cell_type": "markdown",
      "metadata": {
        "id": "xAGR7gLTMteF",
        "colab_type": "text"
      },
      "source": [
        "##DECIDING BEST SPLIT :\n",
        "\n",
        "A decision tree uses multiple algorithms to decide to split a node into different sub-nodes. The sub-nodes are more homogeneous than the previous nodes with respect to the target variable. As we go on splitting the nodes the purity of the nodes increases.\n",
        "\n",
        "A decision tree splits the nodes on all the available variables and selects the one which results in most homogeneous sub-nodes. The process is repeated until a full grown tree is formed.\n",
        "\n",
        "The algorithm selection for split is dependent on the type of target variable. Here we will only look into the categorical target variables and different algorithms that are there to decide the split.\n",
        "\n",
        "---\n",
        "\n",
        "\n"
      ]
    },
    {
      "cell_type": "markdown",
      "metadata": {
        "id": "_1iUNLKcNEVx",
        "colab_type": "text"
      },
      "source": [
        "## GINI IMPURITY\n",
        "\n",
        "                            Gini Impurity = 1- Gini\n",
        "                            Gini = p^2 + q^2\n",
        "\n",
        "The goal of learning algorithms in decision tree is always to find the best split for each node of the tree.\n",
        "\n",
        "Gini Impurity measures the disorder of a set of elements. To understand it better consider a example. Suppose we have data about students in a class and we want to find out who is most likely to pass or fail.\n",
        "\n"
      ]
    },
    {
      "cell_type": "markdown",
      "metadata": {
        "id": "GL9gbDqUSguk",
        "colab_type": "text"
      },
      "source": [
        "Suppose we have information about students whether they attend tution or not and they participate in co-curricular activities or not as two features and we want to predict if the students is going to fail or pass based on these 2 features. \n",
        "\n",
        "      | FEATURES |\n",
        "      --- | \n",
        "      | ATTEND TUTION |\n",
        "      | CO-CURRICULAR ACTIVITIES | \n",
        "\n",
        "\n",
        "| TOTAL STUDENTS | 20|\n",
        "--- | ---|\n",
        "| PASS | 12 |\n",
        "| FAIL | 8 |"
      ]
    },
    {
      "cell_type": "markdown",
      "metadata": {
        "id": "qJdGnHYP1qOl",
        "colab_type": "text"
      },
      "source": [
        "First we will calculate the gini impurity for both the split and select the one with less impurity.\n",
        "\n",
        "**Let's first consider the split on tution**"
      ]
    },
    {
      "cell_type": "markdown",
      "metadata": {
        "id": "RoI6EDP5bCH4",
        "colab_type": "text"
      },
      "source": [
        "<img src = 'https://imgur.com/lDkDTsu.png'>"
      ]
    },
    {
      "cell_type": "markdown",
      "metadata": {
        "id": "HGDxP4APbnZi",
        "colab_type": "text"
      },
      "source": [
        "We have total 20 students in root node. Where star represents failed students and the spehere represents passed students."
      ]
    },
    {
      "cell_type": "markdown",
      "metadata": {
        "id": "TLOzglitdfGd",
        "colab_type": "text"
      },
      "source": [
        "We will represent Probability of pass by p and probability of fail with q"
      ]
    },
    {
      "cell_type": "markdown",
      "metadata": {
        "id": "RQyEiFrocTVj",
        "colab_type": "text"
      },
      "source": [
        "Out of 20, 12 of them pass and 8 fail. So at root node we have  p = 20/12 which equals 0.6 and q = 8/20 which equals 0.4\n",
        "\n",
        "If we calculate Gini at root node we will have p^2 + q^2 = 0.6^2 + 0.4^2 which equals  0.52.\n",
        "\n",
        "*Impurity = 1 - Gini*\n",
        "\n",
        "Impurity = 1 - 0.52 = 0.48\n",
        "\n",
        "                      So at the root node we have impurity = 0.48. \n"
      ]
    },
    {
      "cell_type": "markdown",
      "metadata": {
        "id": "MSQmo95scY7o",
        "colab_type": "text"
      },
      "source": [
        "We have split the node based on tution, where tution = 1 represent students attend tutuions and tution = 0 represents students didn't attend tutuion."
      ]
    },
    {
      "cell_type": "markdown",
      "metadata": {
        "id": "RX2NJRZ5hYlP",
        "colab_type": "text"
      },
      "source": [
        "**After the split we have 12 values in left node and 8 values in right node**"
      ]
    },
    {
      "cell_type": "markdown",
      "metadata": {
        "id": "wHmTOJRai7Es",
        "colab_type": "text"
      },
      "source": [
        "    For the left sub-node. Tution = 1, we have total 12 students. Out of those 12, 9 pass and 3 fail.\n",
        "    \n",
        "                    p = 9/12 which equals  0.75 \n",
        "                    q = 3/12 which equals 0.25\n",
        "                    p^2 + q^2 = 0.75^2 + 0.25^2 = 0.625\n",
        "\n",
        "                    Gini Impurity = 1 - Gini\n",
        "                                  = 1 - 0.625 = 0.37\n",
        "                "
      ]
    },
    {
      "cell_type": "markdown",
      "metadata": {
        "id": "QHE7ZjCtklvx",
        "colab_type": "text"
      },
      "source": [
        "    For the right sub-node. Tution = 0, we have total 8 students. 3 Pass and 9 Fail\n",
        "    \n",
        "                    p = 3/9 which equals  0.38 \n",
        "                    q = 5/9 which equals 0.62\n",
        "                    p^2 + q^2 = 0.38^2 + 0.62^2 = 0.53\n",
        "\n",
        "                    Gini Impurity = 1 - Gini\n",
        "                                  = 1 - 0.53 = 0.47\n",
        "                "
      ]
    },
    {
      "cell_type": "markdown",
      "metadata": {
        "id": "FV3fIhV2m6oK",
        "colab_type": "text"
      },
      "source": [
        "    Now we will calculate the weighted impurity for the split on tution.\n",
        "\n",
        "    Weighted Node impurity = ( (Total number of values in left child node / Total values in parent node) *  Gini Impurity of left node) +\n",
        "                            ( (Total number of values in right child node / Total values in parent node) *  Gini Impurity of right node )\n",
        "\n",
        "                            Weighted Impurity = 12/20 (0.37) + 9/20 (0.47) = 0.41\n",
        "                          \n",
        "\n"
      ]
    },
    {
      "cell_type": "markdown",
      "metadata": {
        "id": "RyVMkG2tqVwO",
        "colab_type": "text"
      },
      "source": [
        "In parent node the gini impurity was 0.48 and now after the split the gini impurity is 0.41. That means we have more homogeneous group and split was significant."
      ]
    },
    {
      "cell_type": "markdown",
      "metadata": {
        "id": "bZ7ynZOiq2iP",
        "colab_type": "text"
      },
      "source": [
        "**Similarly We will calculate the split on Co-curricular activities** \n",
        "\n",
        "We will leave the calculation part for you. calculate the weighted impurity for the split on the co-curricular activities. For simplicity round off the values.\n",
        "\n",
        "Here's what you will get after all the calculations.\n",
        "\n",
        "<img src = \"https://imgur.com/5jk0AyN.png\" height=\"350\" width = \"800\" align=\"center\">\n",
        "\n",
        "---\n",
        "\n",
        "\n",
        "\n",
        "\n"
      ]
    },
    {
      "cell_type": "markdown",
      "metadata": {
        "id": "Z5QAWNvHs1v9",
        "colab_type": "text"
      },
      "source": [
        "    We can see that the gini impurity is less when the split is done on Tutions so we select tution as our 1st split. "
      ]
    },
    {
      "cell_type": "markdown",
      "metadata": {
        "id": "O1MvwjkRtcG8",
        "colab_type": "text"
      },
      "source": [
        "We will again repeat the same steps and select the feature with less impurity for further splitting."
      ]
    },
    {
      "cell_type": "markdown",
      "metadata": {
        "id": "GVskAzf5t16V",
        "colab_type": "text"
      },
      "source": [
        "### We will use Titanic dataset for the demo. "
      ]
    },
    {
      "cell_type": "code",
      "metadata": {
        "id": "7o5d9ZKzCc49",
        "colab_type": "code",
        "colab": {}
      },
      "source": [
        "#import all the necessary package\n",
        "import pandas as pd\n",
        "import numpy as np\n",
        "import matplotlib.pyplot as plt\n",
        "from matplotlib import style\n",
        "style.use('ggplot')\n",
        "from sklearn.model_selection import train_test_split\n",
        "from sklearn.tree import DecisionTreeClassifier\n",
        "from sklearn.preprocessing import minmax_scale, LabelEncoder\n",
        "from sklearn.metrics import accuracy_score, confusion_matrix"
      ],
      "execution_count": 0,
      "outputs": []
    },
    {
      "cell_type": "code",
      "metadata": {
        "id": "lYedkEvu1KN1",
        "colab_type": "code",
        "colab": {}
      },
      "source": [
        "#read data\n",
        "df = pd.read_csv('/content/drive/My Drive/data_set/titanic.csv')"
      ],
      "execution_count": 0,
      "outputs": []
    },
    {
      "cell_type": "code",
      "metadata": {
        "id": "gASrxmin1jkd",
        "colab_type": "code",
        "outputId": "6cb7c0b1-8c2c-43d2-ff47-424beda86d33",
        "colab": {
          "base_uri": "https://localhost:8080/",
          "height": 204
        }
      },
      "source": [
        "#check head \n",
        "df.head()"
      ],
      "execution_count": 3,
      "outputs": [
        {
          "output_type": "execute_result",
          "data": {
            "text/html": [
              "<div>\n",
              "<style scoped>\n",
              "    .dataframe tbody tr th:only-of-type {\n",
              "        vertical-align: middle;\n",
              "    }\n",
              "\n",
              "    .dataframe tbody tr th {\n",
              "        vertical-align: top;\n",
              "    }\n",
              "\n",
              "    .dataframe thead th {\n",
              "        text-align: right;\n",
              "    }\n",
              "</style>\n",
              "<table border=\"1\" class=\"dataframe\">\n",
              "  <thead>\n",
              "    <tr style=\"text-align: right;\">\n",
              "      <th></th>\n",
              "      <th>PassengerId</th>\n",
              "      <th>Survived</th>\n",
              "      <th>Pclass</th>\n",
              "      <th>Name</th>\n",
              "      <th>Sex</th>\n",
              "      <th>Age</th>\n",
              "      <th>SibSp</th>\n",
              "      <th>Parch</th>\n",
              "      <th>Ticket</th>\n",
              "      <th>Fare</th>\n",
              "      <th>Cabin</th>\n",
              "      <th>Embarked</th>\n",
              "    </tr>\n",
              "  </thead>\n",
              "  <tbody>\n",
              "    <tr>\n",
              "      <th>0</th>\n",
              "      <td>1</td>\n",
              "      <td>0</td>\n",
              "      <td>3</td>\n",
              "      <td>Braund, Mr. Owen Harris</td>\n",
              "      <td>male</td>\n",
              "      <td>22.0</td>\n",
              "      <td>1</td>\n",
              "      <td>0</td>\n",
              "      <td>A/5 21171</td>\n",
              "      <td>7.2500</td>\n",
              "      <td>NaN</td>\n",
              "      <td>S</td>\n",
              "    </tr>\n",
              "    <tr>\n",
              "      <th>1</th>\n",
              "      <td>2</td>\n",
              "      <td>1</td>\n",
              "      <td>1</td>\n",
              "      <td>Cumings, Mrs. John Bradley (Florence Briggs Th...</td>\n",
              "      <td>female</td>\n",
              "      <td>38.0</td>\n",
              "      <td>1</td>\n",
              "      <td>0</td>\n",
              "      <td>PC 17599</td>\n",
              "      <td>71.2833</td>\n",
              "      <td>C85</td>\n",
              "      <td>C</td>\n",
              "    </tr>\n",
              "    <tr>\n",
              "      <th>2</th>\n",
              "      <td>3</td>\n",
              "      <td>1</td>\n",
              "      <td>3</td>\n",
              "      <td>Heikkinen, Miss. Laina</td>\n",
              "      <td>female</td>\n",
              "      <td>26.0</td>\n",
              "      <td>0</td>\n",
              "      <td>0</td>\n",
              "      <td>STON/O2. 3101282</td>\n",
              "      <td>7.9250</td>\n",
              "      <td>NaN</td>\n",
              "      <td>S</td>\n",
              "    </tr>\n",
              "    <tr>\n",
              "      <th>3</th>\n",
              "      <td>4</td>\n",
              "      <td>1</td>\n",
              "      <td>1</td>\n",
              "      <td>Futrelle, Mrs. Jacques Heath (Lily May Peel)</td>\n",
              "      <td>female</td>\n",
              "      <td>35.0</td>\n",
              "      <td>1</td>\n",
              "      <td>0</td>\n",
              "      <td>113803</td>\n",
              "      <td>53.1000</td>\n",
              "      <td>C123</td>\n",
              "      <td>S</td>\n",
              "    </tr>\n",
              "    <tr>\n",
              "      <th>4</th>\n",
              "      <td>5</td>\n",
              "      <td>0</td>\n",
              "      <td>3</td>\n",
              "      <td>Allen, Mr. William Henry</td>\n",
              "      <td>male</td>\n",
              "      <td>35.0</td>\n",
              "      <td>0</td>\n",
              "      <td>0</td>\n",
              "      <td>373450</td>\n",
              "      <td>8.0500</td>\n",
              "      <td>NaN</td>\n",
              "      <td>S</td>\n",
              "    </tr>\n",
              "  </tbody>\n",
              "</table>\n",
              "</div>"
            ],
            "text/plain": [
              "   PassengerId  Survived  Pclass  ...     Fare Cabin  Embarked\n",
              "0            1         0       3  ...   7.2500   NaN         S\n",
              "1            2         1       1  ...  71.2833   C85         C\n",
              "2            3         1       3  ...   7.9250   NaN         S\n",
              "3            4         1       1  ...  53.1000  C123         S\n",
              "4            5         0       3  ...   8.0500   NaN         S\n",
              "\n",
              "[5 rows x 12 columns]"
            ]
          },
          "metadata": {
            "tags": []
          },
          "execution_count": 3
        }
      ]
    },
    {
      "cell_type": "code",
      "metadata": {
        "id": "Mwyb8CYf39Z-",
        "colab_type": "code",
        "outputId": "eeca1b16-88a5-492e-d02b-19c282596991",
        "colab": {
          "base_uri": "https://localhost:8080/",
          "height": 34
        }
      },
      "source": [
        "#check the shape\n",
        "df.shape"
      ],
      "execution_count": 4,
      "outputs": [
        {
          "output_type": "execute_result",
          "data": {
            "text/plain": [
              "(891, 12)"
            ]
          },
          "metadata": {
            "tags": []
          },
          "execution_count": 4
        }
      ]
    },
    {
      "cell_type": "code",
      "metadata": {
        "id": "Ol5kIYtN1uqp",
        "colab_type": "code",
        "colab": {}
      },
      "source": [
        "#drop the PassengerId and Ticket\n",
        "df.drop(['PassengerId','Ticket'],axis=1, inplace=True)"
      ],
      "execution_count": 0,
      "outputs": []
    },
    {
      "cell_type": "code",
      "metadata": {
        "id": "biWH7oOc2Y0Y",
        "colab_type": "code",
        "outputId": "ee6d43c4-936d-4741-c67d-b78f40a0489b",
        "colab": {
          "base_uri": "https://localhost:8080/",
          "height": 306
        }
      },
      "source": [
        "#check the information \n",
        "df.info()"
      ],
      "execution_count": 6,
      "outputs": [
        {
          "output_type": "stream",
          "text": [
            "<class 'pandas.core.frame.DataFrame'>\n",
            "RangeIndex: 891 entries, 0 to 890\n",
            "Data columns (total 10 columns):\n",
            " #   Column    Non-Null Count  Dtype  \n",
            "---  ------    --------------  -----  \n",
            " 0   Survived  891 non-null    int64  \n",
            " 1   Pclass    891 non-null    int64  \n",
            " 2   Name      891 non-null    object \n",
            " 3   Sex       891 non-null    object \n",
            " 4   Age       714 non-null    float64\n",
            " 5   SibSp     891 non-null    int64  \n",
            " 6   Parch     891 non-null    int64  \n",
            " 7   Fare      891 non-null    float64\n",
            " 8   Cabin     204 non-null    object \n",
            " 9   Embarked  889 non-null    object \n",
            "dtypes: float64(2), int64(4), object(4)\n",
            "memory usage: 69.7+ KB\n"
          ],
          "name": "stdout"
        }
      ]
    },
    {
      "cell_type": "code",
      "metadata": {
        "id": "nQO2uxGt2zPg",
        "colab_type": "code",
        "outputId": "56ac800f-66ed-46fc-facd-d333eb994101",
        "colab": {
          "base_uri": "https://localhost:8080/",
          "height": 204
        }
      },
      "source": [
        "#check the null values \n",
        "df.isnull().sum()"
      ],
      "execution_count": 7,
      "outputs": [
        {
          "output_type": "execute_result",
          "data": {
            "text/plain": [
              "Survived      0\n",
              "Pclass        0\n",
              "Name          0\n",
              "Sex           0\n",
              "Age         177\n",
              "SibSp         0\n",
              "Parch         0\n",
              "Fare          0\n",
              "Cabin       687\n",
              "Embarked      2\n",
              "dtype: int64"
            ]
          },
          "metadata": {
            "tags": []
          },
          "execution_count": 7
        }
      ]
    },
    {
      "cell_type": "code",
      "metadata": {
        "id": "MaJ5fNMq3Wre",
        "colab_type": "code",
        "colab": {}
      },
      "source": [
        "# We see that the cabin has most null values out of 891 177 are null values i.e almost 77% so we drop this feature as well.\n",
        "\n",
        "# drop cabin column\n",
        "df.drop('Cabin',axis=1,inplace=True) "
      ],
      "execution_count": 0,
      "outputs": []
    },
    {
      "cell_type": "code",
      "metadata": {
        "id": "vvDVmvqH5Cz5",
        "colab_type": "code",
        "colab": {}
      },
      "source": [
        "# extract the title from the name\n",
        "df['Title']=0\n",
        "df['Title']=df.Name.str.extract('([A-Za-z]+)\\.') #lets extract the Salutations\n",
        "df['Title'].replace(['Mlle','Mme','Ms','Dr','Major','Lady','Countess','Jonkheer','Col',\n",
        "                         'Rev','Capt','Sir','Don'],['Miss','Miss','Miss','Mr','Mr','Mrs','Mrs','Other','Other','Other','Mr','Mr','Mr'],inplace=True)"
      ],
      "execution_count": 0,
      "outputs": []
    },
    {
      "cell_type": "code",
      "metadata": {
        "id": "hQXeuaXZ4uLb",
        "colab_type": "code",
        "outputId": "23cccd38-7fa0-4eaf-bc06-0b46d04b6bd8",
        "colab": {
          "base_uri": "https://localhost:8080/",
          "height": 136
        }
      },
      "source": [
        "#check the mean age by title\n",
        "df.groupby('Title')['Age'].mean()"
      ],
      "execution_count": 10,
      "outputs": [
        {
          "output_type": "execute_result",
          "data": {
            "text/plain": [
              "Title\n",
              "Master     4.574167\n",
              "Miss      21.860000\n",
              "Mr        32.739609\n",
              "Mrs       35.981818\n",
              "Other     45.888889\n",
              "Name: Age, dtype: float64"
            ]
          },
          "metadata": {
            "tags": []
          },
          "execution_count": 10
        }
      ]
    },
    {
      "cell_type": "code",
      "metadata": {
        "id": "4h63XBdj4zN5",
        "colab_type": "code",
        "colab": {}
      },
      "source": [
        "#fill the missing values with the mean of the salutations\n",
        "df.loc[(df.Age.isnull())&(df.Title=='Mr'),'Age']= df.Age[df.Title==\"Mr\"].mean()\n",
        "df.loc[(df.Age.isnull())&(df.Title=='Mrs'),'Age']= df.Age[df.Title==\"Mrs\"].mean()\n",
        "df.loc[(df.Age.isnull())&(df.Title=='Master'),'Age']= df.Age[df.Title==\"Master\"].mean()\n",
        "df.loc[(df.Age.isnull())&(df.Title=='Miss'),'Age']= df.Age[df.Title==\"Miss\"].mean()\n",
        "df.loc[(df.Age.isnull())&(df.Title=='Other'),'Age']= df.Age[df.Title==\"Other\"].mean()\n",
        "\n",
        "#drop name\n",
        "df = df.drop('Name', axis=1)"
      ],
      "execution_count": 0,
      "outputs": []
    },
    {
      "cell_type": "code",
      "metadata": {
        "id": "pUqN3DvE9a9o",
        "colab_type": "code",
        "colab": {}
      },
      "source": [
        "#fillna with mode\n",
        "df['Embarked'] = df['Embarked'].fillna(df['Embarked'].mode().iloc[0])"
      ],
      "execution_count": 0,
      "outputs": []
    },
    {
      "cell_type": "code",
      "metadata": {
        "id": "EvDUj05b-jMd",
        "colab_type": "code",
        "colab": {}
      },
      "source": [
        "#Feature transformation, encode the categorical variables\n",
        "df['Sex'] = df['Sex'].map({'female' : 1,'male' : 0}).astype(int)\n",
        "df['Embarked'] = df['Embarked'].map({'Q' : 0,'S':1, 'C':2}).astype(int)\n",
        "df['Title'] = df['Title'].map({'Mr':0, 'Mrs':1, 'Miss':2, 'Master':3, 'Other':4})"
      ],
      "execution_count": 0,
      "outputs": []
    },
    {
      "cell_type": "code",
      "metadata": {
        "id": "IguU6iAHCRiO",
        "colab_type": "code",
        "colab": {}
      },
      "source": [
        "Y = df['Survived']\n",
        "X = df.drop('Survived',axis=1)"
      ],
      "execution_count": 0,
      "outputs": []
    },
    {
      "cell_type": "code",
      "metadata": {
        "id": "TCPrBTYgD0Rz",
        "colab_type": "code",
        "colab": {}
      },
      "source": [
        "#split into train and test\n",
        "X_train,X_test,Y_train,Y_test = train_test_split(X,Y,test_size= 0.25,random_state=42)"
      ],
      "execution_count": 0,
      "outputs": []
    },
    {
      "cell_type": "markdown",
      "metadata": {
        "id": "N34UEMRhFWf1",
        "colab_type": "text"
      },
      "source": [
        "**The defualt criteria for splitting in sklearn is Gini**"
      ]
    },
    {
      "cell_type": "code",
      "metadata": {
        "id": "8d7I-h3CEZk-",
        "colab_type": "code",
        "outputId": "e7c6a6b2-11b7-4b40-89b8-7a8d4383f030",
        "colab": {
          "base_uri": "https://localhost:8080/",
          "height": 119
        }
      },
      "source": [
        "DecisionTreeClassifier()"
      ],
      "execution_count": 16,
      "outputs": [
        {
          "output_type": "execute_result",
          "data": {
            "text/plain": [
              "DecisionTreeClassifier(ccp_alpha=0.0, class_weight=None, criterion='gini',\n",
              "                       max_depth=None, max_features=None, max_leaf_nodes=None,\n",
              "                       min_impurity_decrease=0.0, min_impurity_split=None,\n",
              "                       min_samples_leaf=1, min_samples_split=2,\n",
              "                       min_weight_fraction_leaf=0.0, presort='deprecated',\n",
              "                       random_state=None, splitter='best')"
            ]
          },
          "metadata": {
            "tags": []
          },
          "execution_count": 16
        }
      ]
    },
    {
      "cell_type": "markdown",
      "metadata": {
        "id": "U5zP5DLpSXGC",
        "colab_type": "text"
      },
      "source": [
        "There are many parameters that we can tune here. We will look at each parameter later."
      ]
    },
    {
      "cell_type": "code",
      "metadata": {
        "id": "0MWi0NasK8R8",
        "colab_type": "code",
        "colab": {}
      },
      "source": [
        "#build decision tree model with max depth b/w 1 and 6 inclusive.\n",
        "\n",
        "train_accuracy = []\n",
        "test_accuracy = []\n",
        "\n",
        "for i in np.linspace(1,6,6):\n",
        "  tree = DecisionTreeClassifier(max_depth=i,random_state=42)\n",
        "  tree.fit(X_train,Y_train)\n",
        "  train_predict = tree.predict(X_train)\n",
        "  train_accuracy.append(accuracy_score(Y_train,train_predict))\n",
        "\n",
        "  test_predict = tree.predict(X_test)\n",
        "  test_accuracy.append(accuracy_score(Y_test,test_predict))"
      ],
      "execution_count": 0,
      "outputs": []
    },
    {
      "cell_type": "code",
      "metadata": {
        "id": "DmjdDHy9SIv8",
        "colab_type": "code",
        "outputId": "b9620395-2bf4-4140-96d5-838e14e83c95",
        "colab": {
          "base_uri": "https://localhost:8080/",
          "height": 408
        }
      },
      "source": [
        "#plot train and test accuracy\n",
        "plt.figure(figsize=(12,6))\n",
        "plt.plot(np.linspace(1,6,6),train_accuracy,label='Train Accuracy')\n",
        "plt.plot(np.linspace(1,6,6),test_accuracy,label='Test Accuracy')\n",
        "plt.title('Train Vs Test Accuracy')\n",
        "plt.xlabel('Depth')\n",
        "plt.ylabel('Accuracy')\n",
        "plt.legend()\n",
        "plt.show()"
      ],
      "execution_count": 18,
      "outputs": [
        {
          "output_type": "display_data",
          "data": {
            "image/png": "[encoded data removed]",
            "text/plain": [
              "<Figure size 864x432 with 1 Axes>"
            ]
          },
          "metadata": {
            "tags": [],
            "needs_background": "light"
          }
        }
      ]
    },
    {
      "cell_type": "code",
      "metadata": {
        "id": "SlKOz6_8W-0c",
        "colab_type": "code",
        "colab": {
          "base_uri": "https://localhost:8080/",
          "height": 34
        },
        "outputId": "ca383f0c-5ac2-4ec5-86d8-2af46c7e079e"
      },
      "source": [
        "#run a decision tree with max_depth = 3\n",
        "clf = DecisionTreeClassifier(max_depth = 3, random_state = 42)\n",
        "clf.fit(X_train,Y_train)\n",
        "predict = clf.predict(X_test)\n",
        "accuracy_score(Y_test,predict)"
      ],
      "execution_count": 19,
      "outputs": [
        {
          "output_type": "execute_result",
          "data": {
            "text/plain": [
              "0.8295964125560538"
            ]
          },
          "metadata": {
            "tags": []
          },
          "execution_count": 19
        }
      ]
    },
    {
      "cell_type": "code",
      "metadata": {
        "id": "pWToAaw4bfuC",
        "colab_type": "code",
        "colab": {
          "base_uri": "https://localhost:8080/",
          "height": 466
        },
        "outputId": "397d0fd2-f840-45d7-afa3-425ce3bc0d1b"
      },
      "source": [
        "#plot the tree\n",
        "from sklearn import tree\n",
        "plt.figure(figsize=(15,8))\n",
        "tree.plot_tree(clf, feature_names=X.columns.to_list(), filled=True)\n",
        "plt.show()"
      ],
      "execution_count": 20,
      "outputs": [
        {
          "output_type": "display_data",
          "data": {
            "image/png": "[encoded data removed]",
            "text/plain": [
              "<Figure size 1080x576 with 1 Axes>"
            ]
          },
          "metadata": {
            "tags": [],
            "needs_background": "light"
          }
        }
      ]
    },
    {
      "cell_type": "markdown",
      "metadata": {
        "id": "yH8zivaRgZJI",
        "colab_type": "text"
      },
      "source": [
        "As we know high gini values means the less impurity. Here title feature has the maximum gini values and hence it is chosen as the first split. As we are going down the tree the gini is decresing."
      ]
    },
    {
      "cell_type": "markdown",
      "metadata": {
        "id": "KZB1YbaPiZpN",
        "colab_type": "text"
      },
      "source": [
        "We can also check the feature importance of the variables in building the decision tree."
      ]
    },
    {
      "cell_type": "code",
      "metadata": {
        "id": "7zVUi1GLeQwj",
        "colab_type": "code",
        "colab": {
          "base_uri": "https://localhost:8080/",
          "height": 561
        },
        "outputId": "f3f97c71-7591-4b12-ca8a-8b70c7bc0c13"
      },
      "source": [
        "importances = pd.DataFrame({'feature':X_train.columns,'importance':np.round(clf.feature_importances_,3)})\n",
        "importances = importances.sort_values('importance',ascending=False)\n",
        "print(importances)\n",
        "\n",
        "#plot bar graph for feature importances\n",
        "plt.figure(figsize=(12,6))\n",
        "plt.bar(importances['feature'],importances['importance'],align = \"center\")\n",
        "plt.title('Feature Importance')\n",
        "plt.xlabel('Feature Names')\n",
        "plt.ylabel('Importance')\n",
        "plt.show()"
      ],
      "execution_count": 30,
      "outputs": [
        {
          "output_type": "stream",
          "text": [
            "    feature  importance\n",
            "7     Title       0.669\n",
            "0    Pclass       0.177\n",
            "5      Fare       0.150\n",
            "2       Age       0.004\n",
            "1       Sex       0.000\n",
            "3     SibSp       0.000\n",
            "4     Parch       0.000\n",
            "6  Embarked       0.000\n"
          ],
          "name": "stdout"
        },
        {
          "output_type": "display_data",
          "data": {
            "image/png": "[encoded data removed]",
            "text/plain": [
              "<Figure size 864x432 with 1 Axes>"
            ]
          },
          "metadata": {
            "tags": [],
            "needs_background": "light"
          }
        }
      ]
    },
    {
      "cell_type": "markdown",
      "metadata": {
        "id": "VGlisGtEnbfE",
        "colab_type": "text"
      },
      "source": [
        "As we sac see from the graph title play a very important role in building our model to preddict whether the person is going to survive or die. "
      ]
    },
    {
      "cell_type": "markdown",
      "metadata": {
        "id": "HofxfWign0vV",
        "colab_type": "text"
      },
      "source": [
        "Using this functionality we can also select the features for building our mode.From graph we can see that the features Sex, SibSp, parch, Embarked doesn't add any value in deciding whether the person is going to die or survive so we can remove those features while building our model."
      ]
    },
    {
      "cell_type": "code",
      "metadata": {
        "id": "rvx35OktjzlC",
        "colab_type": "code",
        "colab": {}
      },
      "source": [
        ""
      ],
      "execution_count": 0,
      "outputs": []
    }
  ]
}